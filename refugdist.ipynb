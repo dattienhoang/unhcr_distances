{
 "cells": [
  {
   "cell_type": "markdown",
   "metadata": {},
   "source": [
    "[NPR: \"Where the World's Refugees Are\"](http://www.npr.org/sections/goatsandsoda/2017/03/27/518217052/chart-where-the-worlds-refugees-are)\n",
    "\n",
    "[UNHCR PopStats](http://popstats.unhcr.org/en/overview)\n",
    "\n",
    "\n",
    "First, since I know I'll be working with distances, I'll write a function to compute distances from latitudes and longitudes using the [haversine formula](https://en.wikipedia.org/wiki/Haversine_formula). "
   ]
  },
  {
   "cell_type": "markdown",
   "metadata": {},
   "source": []
  },
  {
   "cell_type": "code",
   "execution_count": null,
   "metadata": {
    "collapsed": true
   },
   "outputs": [],
   "source": [
    "def haversine(lon1, lat1, lon2, lat2):\n",
    "    if abs(lon1) < 180 or abs(lon2) < 180 or abs(lat1) < 90 or abs(lat2) < 90:\n",
    "        return\n",
    "    else:\n",
    "        \"\"\"\n",
    "        Calculate the great circle distance between two points \n",
    "        on the earth (specified in decimal degrees)\n",
    "        \"\"\"\n",
    "        from math import radians, cos, sin, asin, sqrt\n",
    "        # convert decimal degrees to radians \n",
    "        lon1, lat1, lon2, lat2 = map(radians, [lon1, lat1, lon2, lat2])\n",
    "        # haversine formula \n",
    "        dlon = lon2 - lon1 \n",
    "        dlat = lat2 - lat1 \n",
    "        a = sin(dlat/2)**2 + cos(lat1) * cos(lat2) * sin(dlon/2)**2\n",
    "        c = 2 * asin(sqrt(a)) \n",
    "        km = 6367. * c\n",
    "        # convert from km to miles\n",
    "        dist = km/0.621371\n",
    "        return dist"
   ]
  },
  {
   "cell_type": "markdown",
   "metadata": {},
   "source": [
    "To first inspect the data, I considered that there is likely a distribution of distances travelled by refugees I first considered that I figured that the seaborn's violinplot might be a good way to start visualizing the distribution of distances refugees . \n",
    "\n",
    "For the inputs, "
   ]
  },
  {
   "cell_type": "code",
   "execution_count": 2,
   "metadata": {
    "collapsed": true
   },
   "outputs": [],
   "source": [
    "def vis_refugeedist(orig, orig_latlon, dest, dest_latlon):\n",
    "    # first make sure that everything is of the right length!\n",
    "    \n",
    "    \n",
    "    import seaborn as sns\n",
    "    \n",
    "    sns.violinplot(x=df_temp2['Origin'].astype(str), y=pd.to_numeric(df_temp2['distance']), data=df_temp2, palette=\"Set3\", bw=.2, cut=1, linewidth=1)\n",
    "\n",
    "    # no result for vietnam and palestine....seems to be bc string mismatch when performing merge\n"
   ]
  },
  {
   "cell_type": "markdown",
   "metadata": {},
   "source": [
    "Now that I've written something to take in \n",
    "\n",
    "Let's quickly load the data using pandas, and reconcile some inconsistencies between the country names"
   ]
  },
  {
   "cell_type": "code",
   "execution_count": null,
   "metadata": {
    "collapsed": true
   },
   "outputs": [],
   "source": [
    "df = pd.read_csv('C:/Users/Dat Tien Hoang/Documents/GitHub/unhcr_distances/unhcr_popstats_export_asylum_all_data.csv', skiprows=3)\n",
    "#df = pd.read_csv('C:/Users/Dat Tien Hoang/Documents/GitHub/unhcr_distances/unhcr_popstats_export_resettlement_all_data.csv', skiprows=3)\n",
    "df = df.rename(index=str, columns={'Country / territory of asylum/residence':'Destination'})\n",
    "# make all the words uppercase for ease\n",
    "df['Destination'] = map(lambda x: x.upper(), df['Destination'])\n",
    "df['Origin']      = map(lambda x: x.upper(), df['Origin'])\n",
    "\n",
    "countries = pd.read_csv('C:\\Users\\Dat Tien Hoang\\Documents\\GitHub\\unhcr_distances\\countries.csv')\n",
    "countries['name'] = map(lambda x: x.upper(), countries['name'])\n",
    "countries.ix[countries['name'] == 'VIETNAM', 'name'] = 'VIET NAM'\n",
    "countries.ix[countries['name'] == 'PALESTINIAN TERRITORIES', 'name'] = 'PALESTINIAN'"
   ]
  },
  {
   "cell_type": "markdown",
   "metadata": {},
   "source": [
    "Next we'll have to join these dataframes..."
   ]
  },
  {
   "cell_type": "code",
   "execution_count": null,
   "metadata": {
    "collapsed": true
   },
   "outputs": [],
   "source": [
    "df = df.merge(countries, how='left', left_on='Destination', right_on='name', suffixes=['_UNHCR_d', '_countries_d'])\n",
    "df = df.rename(index=str, columns={'latitude':'latitude_d', 'longitude':'longitude_d'})\n",
    "df = df.merge(countries, how='left', left_on='Origin', right_on='name', suffixes=['_UNHCR_o', '_countries_o'])\n",
    "df = df.rename(index=str, columns={'latitude':'latitude_o', 'longitude':'longitude_o'})"
   ]
  },
  {
   "cell_type": "markdown",
   "metadata": {},
   "source": [
    "Upon inspecting some of these intial results, I realized that my approach overlooked some complicated aspects of human migration and geography. This made it difficult to assessing refugee preference for countries nearby was difficult for two reasons. \n",
    "\n",
    "(1) It is difficult to determine which country is a combination of being \"safest\" and \"easiest to get to\". For example, with a water-locked country, the easiest country to get to may already be quite far. Unfavorable political situations in neighboring countries also may reduce some options for migration. In the end I figured it would be too difficult to normalize these factors. \n",
    "\n",
    "(2) Though the UNHCR PopStats dataset provides resettlement information, it only describes the country of origin and resettlement country while omitting the intermediate country where asylum was declared.\n",
    "\n",
    "The violinplot itself also obscures directionality, and the many possible paths refugee migration can take. The UNHCR summarizes the refugee resettlement process in a concise way: \n",
    "![alt text](http://rsq.unhcr.org/media/hxs/query/splash-desktop.svg \"Basic Schema for Refugee Resettlement\") \n",
    "\n",
    "\n",
    "[\"Network Analysis of the Contemporary 'International Refugee System': Is There Any Structure?\"](http://iussp2009.princeton.edu/papers/90854)\n",
    "\n",
    "...think it can be illustrated better by a graph, like money flow!\n",
    "\n",
    "\n"
   ]
  },
  {
   "cell_type": "code",
   "execution_count": null,
   "metadata": {
    "collapsed": true
   },
   "outputs": [],
   "source": []
  },
  {
   "cell_type": "markdown",
   "metadata": {},
   "source": [
    "[Resettlement Data Finder](http://rsq.unhcr.org/) mention with graphs, can make points relative to each other...and then do flow analysis! do people take small steps before a large one typically? ie, do we see clusters of nodes that are closer, and a cluster of nodes that are further?\n",
    "\n",
    "[reference](https://stackoverflow.com/questions/32488772/drawing-nodes-with-coordinates-in-correct-position-using-networkx-matplotlib)\n",
    "\n",
    "\n",
    "I found the NetworkX package to be very useful for graph analysis."
   ]
  },
  {
   "cell_type": "code",
   "execution_count": 68,
   "metadata": {
    "collapsed": false
   },
   "outputs": [],
   "source": [
    "#def vis_refugeegraf(orig, orig_latlon, dest, dest_latlon):\n",
    "import networkx as nx\n",
    "import matplotlib.pyplot as plt"
   ]
  },
  {
   "cell_type": "code",
   "execution_count": null,
   "metadata": {
    "collapsed": false
   },
   "outputs": [],
   "source": []
  },
  {
   "cell_type": "code",
   "execution_count": 94,
   "metadata": {
    "collapsed": false
   },
   "outputs": [
    {
     "ename": "KeyError",
     "evalue": "0",
     "output_type": "error",
     "traceback": [
      "\u001b[0;31m---------------------------------------------------------------------------\u001b[0m",
      "\u001b[0;31mKeyError\u001b[0m                                  Traceback (most recent call last)",
      "\u001b[0;32m<ipython-input-94-e59a87dc7f08>\u001b[0m in \u001b[0;36m<module>\u001b[0;34m()\u001b[0m\n\u001b[1;32m     20\u001b[0m \u001b[0mpos\u001b[0m\u001b[1;33m=\u001b[0m\u001b[0mnx\u001b[0m\u001b[1;33m.\u001b[0m\u001b[0mget_node_attributes\u001b[0m\u001b[1;33m(\u001b[0m\u001b[0mMDG\u001b[0m\u001b[1;33m,\u001b[0m\u001b[1;34m'pos'\u001b[0m\u001b[1;33m)\u001b[0m\u001b[1;33m\u001b[0m\u001b[0m\n\u001b[1;32m     21\u001b[0m \u001b[0medges\u001b[0m \u001b[1;33m=\u001b[0m \u001b[0mMDG\u001b[0m\u001b[1;33m.\u001b[0m\u001b[0medges\u001b[0m\u001b[1;33m(\u001b[0m\u001b[1;33m)\u001b[0m\u001b[1;33m\u001b[0m\u001b[0m\n\u001b[0;32m---> 22\u001b[0;31m \u001b[0mweights\u001b[0m \u001b[1;33m=\u001b[0m \u001b[1;33m[\u001b[0m\u001b[0mMDG\u001b[0m\u001b[1;33m[\u001b[0m\u001b[0mu\u001b[0m\u001b[1;33m]\u001b[0m\u001b[1;33m[\u001b[0m\u001b[0mv\u001b[0m\u001b[1;33m]\u001b[0m\u001b[1;33m[\u001b[0m\u001b[1;36m0\u001b[0m\u001b[1;33m]\u001b[0m\u001b[1;33m[\u001b[0m\u001b[1;34m'weight'\u001b[0m\u001b[1;33m]\u001b[0m \u001b[1;32mfor\u001b[0m \u001b[0mu\u001b[0m\u001b[1;33m,\u001b[0m\u001b[0mv\u001b[0m \u001b[1;32min\u001b[0m \u001b[0medges\u001b[0m\u001b[1;33m]\u001b[0m\u001b[1;33m\u001b[0m\u001b[0m\n\u001b[0m\u001b[1;32m     23\u001b[0m \u001b[0mnx\u001b[0m\u001b[1;33m.\u001b[0m\u001b[0mdraw\u001b[0m\u001b[1;33m(\u001b[0m\u001b[0mMDG\u001b[0m\u001b[1;33m,\u001b[0m \u001b[0mpos\u001b[0m\u001b[1;33m,\u001b[0m \u001b[0mwidth\u001b[0m\u001b[1;33m=\u001b[0m\u001b[0mweights\u001b[0m\u001b[1;33m,\u001b[0m \u001b[0mwith_labels\u001b[0m\u001b[1;33m=\u001b[0m\u001b[0mTrue\u001b[0m\u001b[1;33m)\u001b[0m\u001b[1;31m# edge_color=colors\u001b[0m\u001b[1;33m\u001b[0m\u001b[0m\n\u001b[1;32m     24\u001b[0m \u001b[0mplt\u001b[0m\u001b[1;33m.\u001b[0m\u001b[0mshow\u001b[0m\u001b[1;33m(\u001b[0m\u001b[1;33m)\u001b[0m\u001b[1;33m\u001b[0m\u001b[0m\n",
      "\u001b[0;31mKeyError\u001b[0m: 0"
     ]
    }
   ],
   "source": [
    "MDG=nx.MultiDiGraph()\n",
    "\n",
    "MDG.add_node('Hamburg', pos=(53.5672, 10.0285))\n",
    "MDG.add_node('Berlin', pos=(52.51704, 13.38792))\n",
    "MDG.add_node('1',pos=(52.5,12.5))\n",
    "\n",
    "#DG.add_weighted_edges_from([(1,2,0.5), (3,1,0.75)])\n",
    "#DG.out_degree(1,weight='weight')\n",
    "#DG.degree(1,weight='weight')\n",
    "\n",
    "#DG.successors(1)\n",
    "#DG.neighbors(1)\n",
    "\n",
    "MDG.add_edge('Berlin', '1', weight=50)\n",
    "# equiv to above...\n",
    "#MDG.add_weighted_edges_from([('Berlin', 'Hamburg', 50)], weight=53)\n",
    "MDG.add_edge('Berlin', 'Hamburg', 1, weight=5)\n",
    "\n",
    "#https://stackoverflow.com/questions/25639169/networkx-change-color-width-according-to-edge-attributes-inconsistent-result\n",
    "pos=nx.get_node_attributes(MDG,'pos')\n",
    "edges = MDG.edges()\n",
    "weights = [MDG[u][v][0]['weight'] for u,v in edges]\n",
    "nx.draw(MDG, pos, width=weights, with_labels=True)# edge_color=colors\n",
    "plt.show()"
   ]
  },
  {
   "cell_type": "code",
   "execution_count": 93,
   "metadata": {
    "collapsed": false
   },
   "outputs": [
    {
     "name": "stdout",
     "output_type": "stream",
     "text": [
      "50\n"
     ]
    }
   ],
   "source": [
    "print MDG['Berlin']['1'][0]['weight']\n",
    "#print MDG.edges()\n",
    "#weights"
   ]
  },
  {
   "cell_type": "markdown",
   "metadata": {},
   "source": [
    "The above graphs are pretty rudimentary, since NetworkX was designed more for graph analysis rather than graph visualization. Right now, they're looking quite yucky, but in the near future, I hope to learn to use graphviz or pygraphviz to make a prettier version.\n",
    "\n",
    "Unfortunately, the Resettlement Data Finder only contains relatively recent data for a selection of source countries only. So for now, this also means I'm be unable to make the comparison between Vietnamese refugees and modern refugee cases as I originally intended...but at least I got to learn a lot about "
   ]
  },
  {
   "cell_type": "code",
   "execution_count": 60,
   "metadata": {
    "collapsed": false
   },
   "outputs": [],
   "source": [
    "#from networkx.drawing.nx_agraph import graphviz_layout\n",
    "#A = nx.to_agraph(MDG)\n",
    "#A.layout(prog='dot')\n",
    "#A.draw('test.png')"
   ]
  },
  {
   "cell_type": "code",
   "execution_count": null,
   "metadata": {
    "collapsed": false
   },
   "outputs": [],
   "source": []
  },
  {
   "cell_type": "markdown",
   "metadata": {
    "collapsed": true
   },
   "source": []
  }
 ],
 "metadata": {
  "anaconda-cloud": {},
  "kernelspec": {
   "display_name": "Python [conda root]",
   "language": "python",
   "name": "conda-root-py"
  },
  "language_info": {
   "codemirror_mode": {
    "name": "ipython",
    "version": 2
   },
   "file_extension": ".py",
   "mimetype": "text/x-python",
   "name": "python",
   "nbconvert_exporter": "python",
   "pygments_lexer": "ipython2",
   "version": "2.7.12"
  }
 },
 "nbformat": 4,
 "nbformat_minor": 2
}
